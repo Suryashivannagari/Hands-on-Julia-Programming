{
 "cells": [
  {
   "cell_type": "markdown",
   "metadata": {},
   "source": [
    "# Chapter-9 Standard Libraries\n",
    "This notebook contains the sample source code explained in the book *Hands-On Julia Programming, Sambit Kumar Dash, 2021, bpb Publications. All Rights Reserved*."
   ]
  },
  {
   "cell_type": "code",
   "execution_count": 1,
   "metadata": {},
   "outputs": [
    {
     "name": "stderr",
     "output_type": "stream",
     "text": [
      "\u001b[32m\u001b[1m  Activating\u001b[22m\u001b[39m project at `C:\\Users\\WoU_AI_ML`\n"
     ]
    }
   ],
   "source": [
    "using Pkg\n",
    "pkg\"activate .\"\n",
    "pkg\"instantiate\""
   ]
  },
  {
   "cell_type": "markdown",
   "metadata": {},
   "source": [
    "## 9.1 Introduction\n",
    "\n",
    "There are various functions and methods that are part of Julia already. A developer needs to use them directly rather than having to code for them. This chapter is a bird's eyeview of such methods. "
   ]
  },
  {
   "cell_type": "markdown",
   "metadata": {},
   "source": [
    "### Modules\n",
    "\n",
    "Namespaces where a method or a type reside. Using a method or type outside the module may require explicit qualification. "
   ]
  },
  {
   "cell_type": "code",
   "execution_count": 2,
   "metadata": {},
   "outputs": [
    {
     "data": {
      "text/plain": [
       "Main.m2"
      ]
     },
     "execution_count": 2,
     "metadata": {},
     "output_type": "execute_result"
    }
   ],
   "source": [
    "module m1\n",
    "    function f()\n",
    "        println(\"Defined as m1.f\")\n",
    "    end\n",
    "    function g()\n",
    "        println(\"Defined as m1.g\")\n",
    "    end\n",
    "    function h()\n",
    "        println(\"Defined as m1.h\")\n",
    "    end\n",
    "    export f\n",
    "end\n",
    "\n",
    "module m2\n",
    "    function f()\n",
    "        println(\"Defined as m2.f\")\n",
    "    end\n",
    "    function g()\n",
    "        println(\"Defined as m2.g\")\n",
    "    end\n",
    "    export g\n",
    "end"
   ]
  },
  {
   "cell_type": "code",
   "execution_count": 3,
   "metadata": {},
   "outputs": [
    {
     "data": {
      "text/plain": [
       "2-element Vector{Symbol}:\n",
       " :f\n",
       " :m1"
      ]
     },
     "execution_count": 3,
     "metadata": {},
     "output_type": "execute_result"
    }
   ],
   "source": [
    "names(m1)"
   ]
  },
  {
   "cell_type": "code",
   "execution_count": 4,
   "metadata": {},
   "outputs": [
    {
     "data": {
      "text/plain": [
       "2-element Vector{Symbol}:\n",
       " :g\n",
       " :m2"
      ]
     },
     "execution_count": 4,
     "metadata": {},
     "output_type": "execute_result"
    }
   ],
   "source": [
    "names(m2)"
   ]
  },
  {
   "cell_type": "code",
   "execution_count": 5,
   "metadata": {},
   "outputs": [
    {
     "ename": "LoadError",
     "evalue": "UndefVarError: f not defined",
     "output_type": "error",
     "traceback": [
      "UndefVarError: f not defined",
      "",
      "Stacktrace:",
      " [1] top-level scope",
      "   @ In[5]:1",
      " [2] eval",
      "   @ .\\boot.jl:368 [inlined]",
      " [3] include_string(mapexpr::typeof(REPL.softscope), mod::Module, code::String, filename::String)",
      "   @ Base .\\loading.jl:1428"
     ]
    }
   ],
   "source": [
    "f()"
   ]
  },
  {
   "cell_type": "code",
   "execution_count": 6,
   "metadata": {},
   "outputs": [
    {
     "name": "stdout",
     "output_type": "stream",
     "text": [
      "Defined as m1.f\n"
     ]
    }
   ],
   "source": [
    "m1.f()"
   ]
  },
  {
   "cell_type": "code",
   "execution_count": 7,
   "metadata": {},
   "outputs": [
    {
     "name": "stdout",
     "output_type": "stream",
     "text": [
      "Defined as m2.f\n"
     ]
    }
   ],
   "source": [
    "m2.f()"
   ]
  },
  {
   "cell_type": "code",
   "execution_count": 8,
   "metadata": {},
   "outputs": [],
   "source": [
    "using .m1"
   ]
  },
  {
   "cell_type": "code",
   "execution_count": 9,
   "metadata": {},
   "outputs": [
    {
     "name": "stdout",
     "output_type": "stream",
     "text": [
      "Defined as m1.f\n"
     ]
    }
   ],
   "source": [
    "f()"
   ]
  },
  {
   "cell_type": "code",
   "execution_count": 10,
   "metadata": {},
   "outputs": [
    {
     "ename": "LoadError",
     "evalue": "UndefVarError: g not defined",
     "output_type": "error",
     "traceback": [
      "UndefVarError: g not defined",
      "",
      "Stacktrace:",
      " [1] top-level scope",
      "   @ In[10]:1",
      " [2] eval",
      "   @ .\\boot.jl:368 [inlined]",
      " [3] include_string(mapexpr::typeof(REPL.softscope), mod::Module, code::String, filename::String)",
      "   @ Base .\\loading.jl:1428"
     ]
    }
   ],
   "source": [
    "g()"
   ]
  },
  {
   "cell_type": "code",
   "execution_count": 11,
   "metadata": {},
   "outputs": [],
   "source": [
    "using Main.m2"
   ]
  },
  {
   "cell_type": "code",
   "execution_count": 12,
   "metadata": {},
   "outputs": [
    {
     "name": "stdout",
     "output_type": "stream",
     "text": [
      "Defined as m2.g\n"
     ]
    }
   ],
   "source": [
    "g()"
   ]
  },
  {
   "cell_type": "code",
   "execution_count": 13,
   "metadata": {},
   "outputs": [
    {
     "name": "stderr",
     "output_type": "stream",
     "text": [
      "WARNING: ignoring conflicting import of m1.g into Main\n"
     ]
    }
   ],
   "source": [
    "using .m1: g"
   ]
  },
  {
   "cell_type": "code",
   "execution_count": 14,
   "metadata": {},
   "outputs": [
    {
     "name": "stdout",
     "output_type": "stream",
     "text": [
      "Defined as m2.g\n"
     ]
    }
   ],
   "source": [
    "g()"
   ]
  },
  {
   "cell_type": "code",
   "execution_count": 15,
   "metadata": {},
   "outputs": [],
   "source": [
    "using .m1: h"
   ]
  },
  {
   "cell_type": "code",
   "execution_count": 16,
   "metadata": {},
   "outputs": [
    {
     "name": "stdout",
     "output_type": "stream",
     "text": [
      "Defined as m1.h\n"
     ]
    }
   ],
   "source": [
    "h()"
   ]
  },
  {
   "cell_type": "markdown",
   "metadata": {},
   "source": [
    "## 9.2 Standard Modules\n",
    "\n",
    "`Core`, `Base` and `Main` the bare minimum modules of a Julia shell. `m1` and `m2` here are submodules of `Main`."
   ]
  },
  {
   "cell_type": "code",
   "execution_count": 17,
   "metadata": {},
   "outputs": [
    {
     "data": {
      "text/latex": [
       "\\begin{tabular}\n",
       "{l | r | l}\n",
       "name & size & summary \\\\\n",
       "\\hline\n",
       "Base &  & Module \\\\\n",
       "Core &  & Module \\\\\n",
       "Main &  & Module \\\\\n",
       "m1 & 6.380 KiB & Module \\\\\n",
       "m2 & 5.526 KiB & Module \\\\\n",
       "\\end{tabular}\n"
      ],
      "text/markdown": [
       "| name |      size | summary |\n",
       "|:---- | ---------:|:------- |\n",
       "| Base |           | Module  |\n",
       "| Core |           | Module  |\n",
       "| Main |           | Module  |\n",
       "| m1   | 6.380 KiB | Module  |\n",
       "| m2   | 5.526 KiB | Module  |\n"
      ],
      "text/plain": [
       "  name      size summary\n",
       "  –––– ––––––––– –––––––\n",
       "  Base           Module \n",
       "  Core           Module \n",
       "  Main           Module \n",
       "  m1   6.380 KiB Module \n",
       "  m2   5.526 KiB Module "
      ]
     },
     "execution_count": 17,
     "metadata": {},
     "output_type": "execute_result"
    }
   ],
   "source": [
    "varinfo()"
   ]
  },
  {
   "cell_type": "code",
   "execution_count": 18,
   "metadata": {},
   "outputs": [
    {
     "data": {
      "text/plain": [
       "1"
      ]
     },
     "execution_count": 18,
     "metadata": {},
     "output_type": "execute_result"
    }
   ],
   "source": [
    "x = 1"
   ]
  },
  {
   "cell_type": "code",
   "execution_count": 19,
   "metadata": {},
   "outputs": [
    {
     "data": {
      "text/latex": [
       "\\begin{tabular}\n",
       "{l | r | l}\n",
       "name & size & summary \\\\\n",
       "\\hline\n",
       "Base &  & Module \\\\\n",
       "Core &  & Module \\\\\n",
       "Main &  & Module \\\\\n",
       "m1 & 6.380 KiB & Module \\\\\n",
       "m2 & 5.526 KiB & Module \\\\\n",
       "x & 8 bytes & Int64 \\\\\n",
       "\\end{tabular}\n"
      ],
      "text/markdown": [
       "| name |      size | summary |\n",
       "|:---- | ---------:|:------- |\n",
       "| Base |           | Module  |\n",
       "| Core |           | Module  |\n",
       "| Main |           | Module  |\n",
       "| m1   | 6.380 KiB | Module  |\n",
       "| m2   | 5.526 KiB | Module  |\n",
       "| x    |   8 bytes | Int64   |\n"
      ],
      "text/plain": [
       "  name      size summary\n",
       "  –––– ––––––––– –––––––\n",
       "  Base           Module \n",
       "  Core           Module \n",
       "  Main           Module \n",
       "  m1   6.380 KiB Module \n",
       "  m2   5.526 KiB Module \n",
       "  x      8 bytes Int64  "
      ]
     },
     "execution_count": 19,
     "metadata": {},
     "output_type": "execute_result"
    }
   ],
   "source": [
    "varinfo()"
   ]
  },
  {
   "cell_type": "markdown",
   "metadata": {},
   "source": [
    "## 9.3 System\n",
    "\n",
    "The submodule that interacts with the operating system. System command execution being one of them. "
   ]
  },
  {
   "cell_type": "code",
   "execution_count": 20,
   "metadata": {},
   "outputs": [
    {
     "name": "stdout",
     "output_type": "stream",
     "text": [
      " Volume in drive C is OS\r\n",
      " Volume Serial Number is 3E32-AD10\r\n",
      "\r\n",
      " Directory of C:\\Users\\WoU_AI_ML\r\n",
      "\r\n",
      "01-10-2022  21:35    <DIR>          .\r\n",
      "04-01-2022  00:10    <DIR>          ..\r\n",
      "15-09-2022  21:18         5,025,322  Beverly Hills vaccinehesitensy final.ipynb\r\n",
      "16-09-2022  00:07        11,854,818  Vineeth Reddy Python Assignment final.ipynb\r\n",
      "15-12-2020  14:29             2,746 #wild fire.csv\r\n",
      "19-11-2021  23:40    <DIR>          .anaconda\r\n",
      "10-09-2022  12:21               320 .bash_history\r\n",
      "16-02-2022  17:09    <DIR>          .cache\r\n",
      "01-10-2022  21:36    <DIR>          .conda\r\n",
      "18-09-2022  17:22                43 .condarc\r\n",
      "16-02-2022  17:09    <DIR>          .config\r\n",
      "19-11-2021  23:42    <DIR>          .continuum\r\n",
      "21-12-2020  11:24               198 .gitconfig\r\n",
      "28-09-2021  15:16    <DIR>          .IBM\r\n",
      "12-02-2021  13:45    <DIR>          .idlerc\r\n",
      "01-10-2022  21:35    <DIR>          .ipynb_checkpoints\r\n",
      "28-11-2020  17:40    <DIR>          .ipython\r\n",
      "09-09-2022  14:26    <DIR>          .julia\r\n",
      "01-12-2020  17:13    <DIR>          .jupyter\r\n",
      "01-12-2020  19:19    <DIR>          .keras\r\n",
      "09-03-2021  10:43               742 .labelImgSettings.pkl\r\n",
      "01-02-2021  09:47    <DIR>          .matplotlib\r\n",
      "31-07-2022  16:42    <DIR>          .ms-ad\r\n",
      "16-02-2022  17:09                89 .netrc\r\n",
      "18-09-2022  18:37    <DIR>          .nvidia-omniverse\r\n",
      "12-02-2021  13:41               226 .python_history\r\n",
      "28-09-2021  15:16    <DIR>          .spss\r\n",
      "22-12-2020  14:40    <DIR>          .spyder-py3\r\n",
      "23-09-2021  15:59    <DIR>          .streamlit\r\n",
      "22-12-2020  14:18    <DIR>          .vscode\r\n",
      "31-08-2022  12:56       341,469,761 2022-03 (1).csv\r\n",
      "31-08-2022  12:51       328,027,113 2022-03.csv\r\n",
      "31-08-2022  12:51       307,256,494 2022-04.csv\r\n",
      "31-08-2022  12:51       343,453,047 2022-05.csv\r\n",
      "31-08-2022  12:51       273,969,395 2022-06.csv\r\n",
      "30-08-2022  18:15           402,880 28th feb data preprocessing.ipynb\r\n",
      "23-02-2021  22:58    <DIR>          3D Objects\r\n",
      "14-01-2022  16:49         1,631,907 AI. ASSIGNMENT 1.ipynb\r\n",
      "16-09-2022  18:08    <DIR>          ajay\r\n",
      "16-09-2022  05:41         8,358,773 Aluri Anand Sai Final File.ipynb\r\n",
      "18-09-2022  17:48    <DIR>          anaconda3\r\n",
      "06-02-2021  22:05    <DIR>          ansel\r\n",
      "06-11-2020  15:15            64,055 BradPitt_0.jpg\r\n",
      "21-09-2021  20:41            89,180 Brain Tumour.ipynb\r\n",
      "02-09-2022  11:37         4,417,309 california vaccine hesitancy.ipynb\r\n",
      "01-10-2022  21:02            58,278 Chapter-4 Functions and Methods.ipynb\r\n",
      "01-10-2022  21:34            35,347 Chapter-7 Strings.ipynb\r\n",
      "01-10-2022  21:35            65,258 Chapter-9 Standard Libraries.ipynb\r\n",
      "24-09-2021  10:59               468 classes.csv\r\n",
      "04-01-2022  00:17    <DIR>          Contacts\r\n",
      "26-09-2022  10:28    <DIR>          create-3d-model-using-python\r\n",
      "16-09-2022  19:25           202,834 D Nikhileshwar Python Assignment.ipynb\r\n",
      "08-12-2021  12:24            34,257 Data Cleaning 1.ipynb\r\n",
      "01-12-2021  12:06            29,775 Data cleaning.ipynb\r\n",
      "01-10-2022  21:29    <DIR>          Desktop\r\n",
      "28-01-2021  19:59            17,787 DICTIONARY IN PYTHONS.ipynb\r\n",
      "19-09-2022  23:03    <DIR>          Documents\r\n",
      "01-10-2022  21:34    <DIR>          Downloads\r\n",
      "18-01-2021  11:32            37,383 Emotion_Anaysis.ipynb\r\n",
      "24-12-2020  11:00             3,323 emotion_recognition.py\r\n",
      "27-08-2021  15:55    <DIR>          Enscape\r\n",
      "22-12-2020  17:46            48,978 ethnicity.ipynb\r\n",
      "23-09-2021  21:09         3,079,252 face_recognition.h5\r\n",
      "22-12-2020  15:51        85,283,040 fairface_alldata_20191111.pt\r\n",
      "22-12-2020  15:34        85,283,040 fairface_alldata_4race_20191111.pt\r\n",
      "22-12-2020  15:34         3,793,020 fairface_label_train.csv\r\n",
      "22-12-2020  15:34           447,631 fairface_label_val.csv\r\n",
      "04-01-2022  00:17    <DIR>          Favorites\r\n",
      "24-12-2020  11:00         7,698,452 fer.h5\r\n",
      "24-12-2020  11:00             6,292 fer.json\r\n",
      "30-08-2022  18:16         4,894,875 final_work _data exploration.ipynb\r\n",
      "23-09-2021  20:59                26 FR.py\r\n",
      "23-09-2021  20:56                 0 FR_streamlit.txt\r\n",
      "18-09-2022  17:49    <DIR>          fvcore\r\n",
      "24-12-2020  11:00           930,127 haarcascade_frontalface_default.xml\r\n",
      "21-12-2020  14:35           262,733 hemorrahge project file 2.ipynb\r\n",
      "18-01-2022  11:52            15,538 hemorrahge project.ipynb\r\n",
      "27-12-2020  10:32         1,889,496 hemorrhage project detection.ipynb\r\n",
      "15-09-2022  22:39         8,351,826 Hitesh Kumar D Assignment final.ipynb\r\n",
      "14-09-2022  17:12             1,744 Hitesh kumar.D -BeverlyHills -Assingment.ipynb\r\n",
      "03-09-2022  17:52         3,899,667 hitesh kumar.ipynb\r\n",
      "21-12-2020  16:43             2,463 human detectioon.ipynb\r\n",
      "21-12-2020  16:26             3,664 human-counting-project-code.py\r\n",
      "21-12-2020  16:40             3,664 human-counting-project-code2.py\r\n",
      "09-09-2022  14:29               733 Julia Practice.ipynb\r\n",
      "30-09-2022  19:34         6,949,901 julia-1.5.3.tar.gz\r\n",
      "15-12-2020  14:23               228 kanganaranaut.csv\r\n",
      "24-09-2021  11:02            90,426 Kiran FR PROJECT.ipynb\r\n",
      "16-12-2021  00:33            63,721 large_cap.csv\r\n",
      "16-12-2021  20:18           168,009 large_cap.ipynb\r\n",
      "04-01-2022  00:17    <DIR>          Links\r\n",
      "08-12-2021  12:33             9,913 Logistic regression.ipynb\r\n",
      "10-02-2021  11:11    <DIR>          logs\r\n",
      "26-09-2022  18:04             5,162 Manifest.toml\r\n",
      "28-01-2021  22:48           482,450 matrix operations.ipynb\r\n",
      "22-12-2020  15:34           729,940 mmod_human_face_detector.dat\r\n",
      "29-11-2020  22:03           995,228 MOA drugs classification .ipynb\r\n",
      "17-09-2022  22:09    <DIR>          Music\r\n",
      "16-09-2022  15:13        14,507,492 My Code .ipynb\r\n",
      "11-12-2020  18:45         9,852,350 nfl opencv.ipynb\r\n",
      "14-09-2022  01:16         3,906,519 Northeast ohio Assingment Vaccine hesistancy.ipynb\r\n",
      "07-08-2021  08:28    <DIR>          OneDrive\r\n",
      "05-09-2022  09:23            13,154 opencv_sunil.ipynb\r\n",
      "03-03-2022  09:18    <DIR>          pgeocode_data\r\n",
      "17-09-2022  17:13    <DIR>          Pictures\r\n",
      "26-09-2022  20:43    <DIR>          pifuhd\r\n",
      "27-01-2021  23:47            72,214 Praveen.ipynb\r\n",
      "22-12-2020  15:34             8,831 predict.py\r\n",
      "22-12-2020  15:34             9,303 predict_bbox.py\r\n",
      "26-09-2022  18:04                62 Project.toml\r\n",
      "13-09-2022  12:22         3,960,935 python assignment.ipynb\r\n",
      "07-11-2021  05:24    <DIR>          python-utils-develop\r\n",
      "27-09-2022  14:48    <DIR>          pytorch3d\r\n",
      "15-09-2022  10:56            10,035 PYTORCH3D.ipynb\r\n",
      "22-12-2020  16:15       537,215,296 race_model_single_batch.h5\r\n",
      "26-09-2022  14:44            15,114 Rahul Kalra .ipynb\r\n",
      "22-12-2020  15:34                28 ReadMe\r\n",
      "24-12-2020  11:00               936 README.md\r\n",
      "30-10-2021  22:03            10,351 recording gui.ipynb\r\n",
      "07-12-2021  16:14            46,109 red data.ipynb\r\n",
      "07-12-2021  16:12            46,094 red son data.ipynb\r\n",
      "22-12-2020  15:34        85,283,042 res34_fair_align_multi_7_20190809.pt\r\n",
      "27-07-2021  10:19           145,836 Revision1.ipynb\r\n",
      "16-09-2022  11:48    <DIR>          Sai Santhosh\r\n",
      "04-01-2022  00:17    <DIR>          Saved Games\r\n",
      "21-02-2021  19:22    <DIR>          seaborn-data\r\n",
      "16-09-2022  02:29    <DIR>          Searches\r\n",
      "22-12-2020  15:34         9,150,489 shape_predictor_5_face_landmarks.dat\r\n",
      "22-12-2020  13:16    <DIR>          source\r\n",
      "28-08-2022  22:10            41,909 step 1 - merging all csv files.ipynb\r\n",
      "13-01-2022  23:55         3,196,104 stock_prediction.h5\r\n",
      "22-12-2020  16:04            21,062 sunil_ethnic.ipynb\r\n",
      "22-12-2020  16:19             9,022 sunil_facial.ipynb\r\n",
      "11-12-2021  12:37    <DIR>          tensorflow_datasets\r\n",
      "22-12-2020  15:34               157 test_imgs.csv\r\n",
      "22-12-2020  15:34             2,024 test_outputs.csv\r\n",
      "18-11-2021  22:14               582 text_summarization.ipynb\r\n",
      "11-12-2020  18:43        42,079,524 tmp_labeled_57584_000336_Endzone.mp4\r\n",
      "11-12-2020  18:44        21,340,366 tmp_labeled_57584_002674_Sideline.mp4\r\n",
      "16-09-2022  03:42    <DIR>          Untitled Folder\r\n",
      "02-12-2020  16:33             2,751 Untitled.ipynb\r\n",
      "21-12-2020  15:35            17,627 Untitled1.ipynb\r\n",
      "28-01-2021  18:00               555 Untitled10.ipynb\r\n",
      "10-02-2021  11:12             4,413 Untitled11.ipynb\r\n",
      "12-02-2021  13:41                72 Untitled12.ipynb\r\n",
      "23-02-2021  01:41                72 Untitled13.ipynb\r\n",
      "23-02-2021  01:43               798 Untitled14.ipynb\r\n",
      "23-07-2021  10:02                72 Untitled15.ipynb\r\n",
      "27-07-2021  10:18             2,337 Untitled16.ipynb\r\n",
      "21-09-2021  20:49             9,848 Untitled17.ipynb\r\n",
      "23-09-2021  20:38                72 Untitled18.ipynb\r\n",
      "23-11-2021  16:17                72 Untitled19.ipynb\r\n",
      "22-12-2020  12:53            14,522 Untitled2.ipynb\r\n",
      "29-11-2021  13:26            57,413 Untitled20.ipynb\r\n",
      "07-12-2021  15:25             9,822 Untitled21.ipynb\r\n",
      "07-12-2021  15:56            46,079 Untitled22.ipynb\r\n",
      "08-12-2021  12:00            28,128 Untitled23.ipynb\r\n",
      "11-12-2021  11:54             2,849 Untitled24.ipynb\r\n",
      "13-12-2021  23:10             3,161 Untitled25.ipynb\r\n",
      "13-12-2021  23:19            22,254 Untitled26.ipynb\r\n",
      "13-12-2021  23:28            18,544 Untitled27.ipynb\r\n",
      "14-12-2021  00:17            31,246 Untitled28.ipynb\r\n",
      "14-12-2021  16:13             4,941 Untitled29.ipynb\r\n",
      "14-12-2020  18:29            60,259 Untitled3.ipynb\r\n",
      "14-12-2021  16:08            15,430 Untitled30.ipynb\r\n",
      "14-12-2021  16:45             9,576 Untitled31.ipynb\r\n",
      "14-12-2021  18:23             8,473 Untitled32.ipynb\r\n",
      "14-12-2021  17:05             5,829 Untitled33.ipynb\r\n",
      "10-09-2022  16:30         3,840,619 Untitled34.ipynb\r\n",
      "15-12-2021  14:35                72 Untitled35.ipynb\r\n",
      "13-01-2022  23:29             2,194 Untitled36.ipynb\r\n",
      "23-12-2021  17:26             1,829 Untitled37.ipynb\r\n",
      "23-12-2021  19:09             7,865 Untitled38.ipynb\r\n",
      "23-12-2021  19:24            10,007 Untitled39.ipynb\r\n",
      "22-12-2020  12:58            39,919 Untitled4.ipynb\r\n",
      "02-01-2022  21:17             9,616 Untitled40.ipynb\r\n",
      "02-01-2022  21:32             4,217 Untitled41.ipynb\r\n",
      "02-01-2022  23:20            15,479 Untitled42.ipynb\r\n",
      "07-01-2022  10:35             5,524 Untitled43.ipynb\r\n",
      "07-01-2022  10:37            12,591 Untitled44.ipynb\r\n",
      "18-01-2022  21:48               586 Untitled45.ipynb\r\n",
      "22-01-2022  21:00             2,750 Untitled46.ipynb\r\n",
      "16-02-2022  17:10            14,898 Untitled47.ipynb\r\n",
      "18-02-2022  09:39            18,968 Untitled48.ipynb\r\n",
      "18-02-2022  09:26                72 Untitled49.ipynb\r\n",
      "22-12-2020  13:12               555 Untitled5.ipynb\r\n",
      "21-02-2022  09:43                72 Untitled50.ipynb\r\n",
      "23-02-2022  15:28            13,030 Untitled51.ipynb\r\n",
      "25-02-2022  15:54             1,834 Untitled52.ipynb\r\n",
      "23-03-2022  09:57                72 Untitled53.ipynb\r\n",
      "23-03-2022  10:02                72 Untitled54.ipynb\r\n",
      "18-04-2022  15:45             1,359 Untitled55.ipynb\r\n",
      "18-04-2022  16:24             3,101 Untitled56.ipynb\r\n",
      "28-08-2022  22:08               586 Untitled57.ipynb\r\n",
      "05-09-2022  09:43                72 Untitled58.ipynb\r\n",
      "06-09-2022  20:47            98,167 Untitled59.ipynb\r\n",
      "22-12-2020  14:24            41,703 Untitled6.ipynb\r\n",
      "06-09-2022  21:54                72 Untitled60.ipynb\r\n",
      "06-09-2022  21:58               723 Untitled61.ipynb\r\n",
      "09-09-2022  15:27               453 Untitled62.ipynb\r\n",
      "12-09-2022  23:51                72 Untitled63.ipynb\r\n",
      "16-09-2022  09:21               757 Untitled64.ipynb\r\n",
      "26-09-2022  17:59                72 Untitled65.ipynb\r\n",
      "24-12-2020  11:13             3,571 Untitled7.ipynb\r\n",
      "18-01-2021  11:35               674 Untitled8.ipynb\r\n",
      "18-02-2022  10:22             3,594 Untitled9.ipynb\r\n",
      "29-09-2022  21:22    <DIR>          Videos\r\n",
      "24-12-2020  11:00             1,591 videoTester.py\r\n",
      "16-12-2021  21:04            16,777 Vishnu kethan nath gopu.ipynb\r\n",
      "16-02-2022  17:09    <DIR>          wandb\r\n",
      "15-12-2020  14:27            19,873 wild fire.csv\r\n",
      "18-02-2022  09:27             4,682 yolo_utils.py\r\n",
      "18-04-2022  15:34             4,062 youtube .ipynb\r\n",
      "18-02-2022  09:27    <DIR>          __pycache__\r\n",
      "             162 File(s)  2,577,427,324 bytes\r\n",
      "              52 Dir(s)  152,123,473,920 bytes free\r\n"
     ]
    },
    {
     "data": {
      "text/plain": [
       "Process(`\u001b[4mcmd\u001b[24m \u001b[4m/c\u001b[24m \u001b[4mdir\u001b[24m`, ProcessExited(0))"
      ]
     },
     "execution_count": 20,
     "metadata": {},
     "output_type": "execute_result"
    }
   ],
   "source": [
    "run(`cmd /c dir`)"
   ]
  },
  {
   "cell_type": "code",
   "execution_count": 21,
   "metadata": {},
   "outputs": [
    {
     "data": {
      "text/plain": [
       "(false, true)"
      ]
     },
     "execution_count": 21,
     "metadata": {},
     "output_type": "execute_result"
    }
   ],
   "source": [
    "Sys.isunix(), Sys.iswindows()"
   ]
  },
  {
   "cell_type": "markdown",
   "metadata": {},
   "source": [
    "## 9.4 Filesystem\n",
    "\n",
    "File organization and manipulation (not read and write). "
   ]
  },
  {
   "cell_type": "code",
   "execution_count": 22,
   "metadata": {},
   "outputs": [
    {
     "data": {
      "text/plain": [
       "\"C:\\\\Users\\\\WoU_AI_ML\""
      ]
     },
     "execution_count": 22,
     "metadata": {},
     "output_type": "execute_result"
    }
   ],
   "source": [
    "old_dir = pwd()"
   ]
  },
  {
   "cell_type": "code",
   "execution_count": 23,
   "metadata": {},
   "outputs": [],
   "source": [
    "cd(\"..\")"
   ]
  },
  {
   "cell_type": "code",
   "execution_count": 24,
   "metadata": {},
   "outputs": [
    {
     "data": {
      "text/plain": [
       "\"C:\\\\Users\""
      ]
     },
     "execution_count": 24,
     "metadata": {},
     "output_type": "execute_result"
    }
   ],
   "source": [
    "pwd()"
   ]
  },
  {
   "cell_type": "code",
   "execution_count": 25,
   "metadata": {},
   "outputs": [],
   "source": [
    "cd(old_dir)"
   ]
  },
  {
   "cell_type": "code",
   "execution_count": 26,
   "metadata": {},
   "outputs": [
    {
     "data": {
      "text/plain": [
       "\"C:\\\\Users\\\\WoU_AI_ML\""
      ]
     },
     "execution_count": 26,
     "metadata": {},
     "output_type": "execute_result"
    }
   ],
   "source": [
    "pwd()"
   ]
  },
  {
   "cell_type": "code",
   "execution_count": 27,
   "metadata": {},
   "outputs": [
    {
     "data": {
      "text/plain": [
       "\"C:\\\\Users\""
      ]
     },
     "execution_count": 27,
     "metadata": {},
     "output_type": "execute_result"
    }
   ],
   "source": [
    "cd(\"..\"); pwd()"
   ]
  },
  {
   "cell_type": "code",
   "execution_count": 28,
   "metadata": {},
   "outputs": [
    {
     "data": {
      "text/plain": [
       "7-element Vector{String}:\n",
       " \"All Users\"\n",
       " \"Default\"\n",
       " \"Default User\"\n",
       " \"Public\"\n",
       " \"WoU_AI_ML\"\n",
       " \"admin\"\n",
       " \"desktop.ini\""
      ]
     },
     "execution_count": 28,
     "metadata": {},
     "output_type": "execute_result"
    }
   ],
   "source": [
    "readdir()  #Same as readdir(pwd())"
   ]
  },
  {
   "cell_type": "code",
   "execution_count": 29,
   "metadata": {},
   "outputs": [],
   "source": [
    "for (root, dirs, files) in walkdir(\"Chapter-09\")\n",
    "    println(\"Directories in $root\")\n",
    "    for dir in dirs\n",
    "        println(joinpath(root, dir)) # path to directories\n",
    "    end\n",
    "    println(\"Files in $root\")\n",
    "    for file in files\n",
    "        println(joinpath(root, file)) # path to files\n",
    "    end\n",
    "end"
   ]
  },
  {
   "cell_type": "code",
   "execution_count": 30,
   "metadata": {},
   "outputs": [
    {
     "data": {
      "text/plain": [
       "\"C:\\\\Users\\\\WoU_AI_ML\""
      ]
     },
     "execution_count": 30,
     "metadata": {},
     "output_type": "execute_result"
    }
   ],
   "source": [
    "cd(old_dir); pwd()"
   ]
  },
  {
   "cell_type": "code",
   "execution_count": 31,
   "metadata": {},
   "outputs": [
    {
     "data": {
      "text/plain": [
       "StatStruct for \"Chapter-9 Standard Libraries.ipynb\"\n",
       "   size: 65258 bytes\n",
       " device: 1043508496\n",
       "  inode: 1769667\n",
       "   mode: 0o100666 (-rw-rw-rw-)\n",
       "  nlink: 1\n",
       "    uid: 0\n",
       "    gid: 0\n",
       "   rdev: 0\n",
       "  blksz: 4096\n",
       " blocks: 128\n",
       "  mtime:  (41 seconds ago)\n",
       "  ctime:  (41 seconds ago)"
      ]
     },
     "execution_count": 31,
     "metadata": {},
     "output_type": "execute_result"
    }
   ],
   "source": [
    "fs = stat(\"Chapter-9 Standard Libraries.ipynb\")"
   ]
  },
  {
   "cell_type": "markdown",
   "metadata": {},
   "source": [
    "## 9.5 Parallel Programming\n",
    "\n",
    "Execution of programs in tandem in various execution environments, yet be able to obtain meaningful and synchronized results. Performance and resource utilization are two major outcomes of this kind of programming. "
   ]
  },
  {
   "cell_type": "markdown",
   "metadata": {},
   "source": [
    "### Asynchronous Programming\n",
    "\n",
    "Breaking the code into small chunks of executable pieces that can be executed in parallel. Depending on the kind of processing permitted by the hardware and OS, these may run in one execution thread or multiple."
   ]
  },
  {
   "cell_type": "markdown",
   "metadata": {},
   "source": [
    "#### Tasks"
   ]
  },
  {
   "cell_type": "code",
   "execution_count": 32,
   "metadata": {},
   "outputs": [
    {
     "data": {
      "text/plain": [
       "Task (runnable) @0x000000000c333270"
      ]
     },
     "execution_count": 32,
     "metadata": {},
     "output_type": "execute_result"
    }
   ],
   "source": [
    "t = Task() do \n",
    "    sleep(10)\n",
    "    println(\"done\")\n",
    "end"
   ]
  },
  {
   "cell_type": "code",
   "execution_count": 33,
   "metadata": {},
   "outputs": [
    {
     "data": {
      "text/plain": [
       "Task (runnable) @0x000000000c333270"
      ]
     },
     "execution_count": 33,
     "metadata": {},
     "output_type": "execute_result"
    }
   ],
   "source": [
    "schedule(t)"
   ]
  },
  {
   "cell_type": "code",
   "execution_count": 34,
   "metadata": {},
   "outputs": [
    {
     "data": {
      "text/plain": [
       "Task (runnable) @0x000000000b7b3650"
      ]
     },
     "execution_count": 34,
     "metadata": {},
     "output_type": "execute_result"
    }
   ],
   "source": [
    "t = Task() do \n",
    "    sleep(10)\n",
    "    println(\"done\")\n",
    "end"
   ]
  },
  {
   "cell_type": "code",
   "execution_count": 35,
   "metadata": {},
   "outputs": [
    {
     "name": "stdout",
     "output_type": "stream",
     "text": [
      "done\n",
      "done\n"
     ]
    }
   ],
   "source": [
    "schedule(t); wait(t)"
   ]
  },
  {
   "cell_type": "code",
   "execution_count": 36,
   "metadata": {},
   "outputs": [
    {
     "data": {
      "text/plain": [
       "Task (runnable) @0x000000000b7b3e10"
      ]
     },
     "execution_count": 36,
     "metadata": {},
     "output_type": "execute_result"
    }
   ],
   "source": [
    "t = @task begin\n",
    "    sleep(5)\n",
    "    println(\"done\")\n",
    "end"
   ]
  },
  {
   "cell_type": "code",
   "execution_count": 37,
   "metadata": {},
   "outputs": [
    {
     "name": "stdout",
     "output_type": "stream",
     "text": [
      "done\n"
     ]
    }
   ],
   "source": [
    "@sync  begin\n",
    "    sleep(5)\n",
    "    println(\"done\")\n",
    "end"
   ]
  },
  {
   "cell_type": "markdown",
   "metadata": {},
   "source": [
    "#### Channels"
   ]
  },
  {
   "cell_type": "code",
   "execution_count": 38,
   "metadata": {},
   "outputs": [
    {
     "data": {
      "text/plain": [
       "Channel{Any}(8) (empty)"
      ]
     },
     "execution_count": 38,
     "metadata": {},
     "output_type": "execute_result"
    }
   ],
   "source": [
    "c = Channel(8)"
   ]
  },
  {
   "cell_type": "code",
   "execution_count": 39,
   "metadata": {},
   "outputs": [
    {
     "data": {
      "text/plain": [
       "Channel{Int64}(4) (empty)"
      ]
     },
     "execution_count": 39,
     "metadata": {},
     "output_type": "execute_result"
    }
   ],
   "source": [
    "c = Channel{Int}(4)"
   ]
  },
  {
   "cell_type": "code",
   "execution_count": 40,
   "metadata": {},
   "outputs": [
    {
     "data": {
      "text/plain": [
       "Task (runnable) @0x000000000ca5eca0"
      ]
     },
     "execution_count": 40,
     "metadata": {},
     "output_type": "execute_result"
    },
    {
     "name": "stdout",
     "output_type": "stream",
     "text": [
      "Adding 1 to channel\n"
     ]
    }
   ],
   "source": [
    "@async begin\n",
    "    for i = 1:100\n",
    "        println(\"Adding $i to channel\")\n",
    "        put!(c, i)\n",
    "    end\n",
    "end\n",
    "\n",
    "@async begin\n",
    "    for i = 1:100\n",
    "        v = take!(c)\n",
    "        println(\"Removing value: $v\")\n",
    "    end\n",
    "end"
   ]
  },
  {
   "cell_type": "code",
   "execution_count": 41,
   "metadata": {},
   "outputs": [
    {
     "name": "stdout",
     "output_type": "stream",
     "text": [
      "Adding 2 to channel\n",
      "Adding 3 to channel\n",
      "Removing value: 1\n"
     ]
    }
   ],
   "source": [
    "close(c)"
   ]
  },
  {
   "cell_type": "markdown",
   "metadata": {},
   "source": [
    "### Multithreading\n",
    "\n",
    "Julia can be made to run on a multiple threads mode. In such a conditions the tasks can be parallelized on these threads. Synchronization objects can be used across the executing threads. "
   ]
  },
  {
   "cell_type": "code",
   "execution_count": 42,
   "metadata": {},
   "outputs": [
    {
     "name": "stdout",
     "output_type": "stream",
     "text": [
      "Removing value: 2\n"
     ]
    },
    {
     "data": {
      "text/plain": [
       "1"
      ]
     },
     "execution_count": 42,
     "metadata": {},
     "output_type": "execute_result"
    }
   ],
   "source": [
    "Threads.nthreads()"
   ]
  },
  {
   "cell_type": "code",
   "execution_count": 43,
   "metadata": {},
   "outputs": [
    {
     "data": {
      "text/plain": [
       "Task (runnable) @0x000000000d119940"
      ]
     },
     "execution_count": 43,
     "metadata": {},
     "output_type": "execute_result"
    }
   ],
   "source": [
    "Threads.@spawn for i=1:100\n",
    "    sleep(1)\n",
    "    println(\"Step: $i\")\n",
    "end"
   ]
  },
  {
   "cell_type": "markdown",
   "metadata": {},
   "source": [
    "### Distributed Computing\n",
    "\n",
    "This is cluster computing infrastrcuture, where a cluster can be configured across Julia processes in the same machine or in another machine. These independent processes can execute independently yet be able to share data, pass messages and communicate over a shared channel. "
   ]
  },
  {
   "cell_type": "markdown",
   "metadata": {},
   "source": [
    "## 9.6 IO and Network\n",
    "\n",
    "Julia accesses input and output devices as streams. The network devices are also interfaced like sockets. IO is an important stream based interface to understand. "
   ]
  },
  {
   "cell_type": "markdown",
   "metadata": {},
   "source": [
    "### Default Stream\n",
    "\n",
    "`stdin`, `stdout` and `stderr` are the standard streams for input, output and error in most processes. `stdin` integration with Jupyter is limited. All those samples may best be reviewed in a REPL console. "
   ]
  },
  {
   "cell_type": "code",
   "execution_count": 44,
   "metadata": {},
   "outputs": [
    {
     "name": "stdout",
     "output_type": "stream",
     "text": [
      "Hello World"
     ]
    },
    {
     "data": {
      "text/plain": [
       "11"
      ]
     },
     "execution_count": 44,
     "metadata": {},
     "output_type": "execute_result"
    }
   ],
   "source": [
    "write(stdout, \"Hello World\")"
   ]
  },
  {
   "cell_type": "code",
   "execution_count": 45,
   "metadata": {},
   "outputs": [
    {
     "name": "stdout",
     "output_type": "stream",
     "text": [
      "∀ x ∃ y"
     ]
    },
    {
     "data": {
      "text/plain": [
       "11"
      ]
     },
     "execution_count": 45,
     "metadata": {},
     "output_type": "execute_result"
    }
   ],
   "source": [
    "write(stdout, \"\\u2200 x \\u2203 y\")"
   ]
  },
  {
   "cell_type": "markdown",
   "metadata": {},
   "source": [
    "### Text I/O"
   ]
  },
  {
   "cell_type": "markdown",
   "metadata": {},
   "source": [
    "### Binary I/O"
   ]
  },
  {
   "cell_type": "markdown",
   "metadata": {},
   "source": [
    "### File I/O\n",
    "\n",
    "Files are also accessed as `IO` streams for both read and write operations. However, the `IO` streams are obtained by `open` call. Any open stream must be closed with a `close` function call. "
   ]
  },
  {
   "cell_type": "code",
   "execution_count": 46,
   "metadata": {},
   "outputs": [
    {
     "data": {
      "text/plain": [
       "11"
      ]
     },
     "execution_count": 46,
     "metadata": {},
     "output_type": "execute_result"
    }
   ],
   "source": [
    "write(\"hello.txt\", \"Hello World\")"
   ]
  },
  {
   "cell_type": "code",
   "execution_count": 47,
   "metadata": {},
   "outputs": [],
   "source": [
    "fd = open(\"hello.txt\", \"r\");\n",
    "data = read(fd);"
   ]
  },
  {
   "cell_type": "code",
   "execution_count": 48,
   "metadata": {},
   "outputs": [
    {
     "ename": "LoadError",
     "evalue": "ArgumentError: write failed, IOStream is not writeable",
     "output_type": "error",
     "traceback": [
      "ArgumentError: write failed, IOStream is not writeable",
      "",
      "Stacktrace:",
      " [1] unsafe_write(s::IOStream, p::Ptr{UInt8}, nb::UInt64)",
      "   @ Base .\\iostream.jl:373",
      " [2] write(io::IOStream, s::String)",
      "   @ Base .\\strings\\io.jl:244",
      " [3] top-level scope",
      "   @ In[48]:1",
      " [4] eval",
      "   @ .\\boot.jl:368 [inlined]",
      " [5] include_string(mapexpr::typeof(REPL.softscope), mod::Module, code::String, filename::String)",
      "   @ Base .\\loading.jl:1428"
     ]
    }
   ],
   "source": [
    "write(fd, \"This is second line\")"
   ]
  },
  {
   "cell_type": "code",
   "execution_count": 49,
   "metadata": {},
   "outputs": [
    {
     "name": "stdout",
     "output_type": "stream",
     "text": [
      "Hello World"
     ]
    },
    {
     "data": {
      "text/plain": [
       "11"
      ]
     },
     "execution_count": 49,
     "metadata": {},
     "output_type": "execute_result"
    }
   ],
   "source": [
    "close(fd)\n",
    "write(stdout, data)"
   ]
  },
  {
   "cell_type": "code",
   "execution_count": 50,
   "metadata": {},
   "outputs": [
    {
     "name": "stdout",
     "output_type": "stream",
     "text": [
      "Hello World"
     ]
    },
    {
     "data": {
      "text/plain": [
       "11"
      ]
     },
     "execution_count": 50,
     "metadata": {},
     "output_type": "execute_result"
    }
   ],
   "source": [
    "open(\"hello.txt\", \"r\") do fd\n",
    "    data = read(fd)\n",
    "    write(stdout, data)\n",
    "end"
   ]
  },
  {
   "cell_type": "code",
   "execution_count": 51,
   "metadata": {},
   "outputs": [
    {
     "name": "stdout",
     "output_type": "stream",
     "text": [
      "Hello World"
     ]
    }
   ],
   "source": [
    "write(\"hello.txt\", \"Hello World\");\n",
    "data = read(\"hello.txt\");\n",
    "write(stdout, data);"
   ]
  },
  {
   "cell_type": "markdown",
   "metadata": {},
   "source": [
    "Files are opened for `read` or `write`. A file opened for reading cannot be written into.  "
   ]
  },
  {
   "cell_type": "code",
   "execution_count": 52,
   "metadata": {},
   "outputs": [
    {
     "name": "stdout",
     "output_type": "stream",
     "text": [
      "Hello World"
     ]
    }
   ],
   "source": [
    "open(\"hello.txt\", \"r\") do fd\n",
    "    while !eof(fd)\n",
    "        b = read(fd, 1)\n",
    "        write(stdout, b)\n",
    "    end\n",
    "end\n",
    "rm(\"hello.txt\")"
   ]
  },
  {
   "cell_type": "markdown",
   "metadata": {},
   "source": [
    "### Delimited Files\n",
    "\n",
    "Generalized command separated value (CSV) kind of files. Used extensively in spreadsheets. Also interfaced in data science applications as an easier way to share data. "
   ]
  },
  {
   "cell_type": "code",
   "execution_count": 53,
   "metadata": {},
   "outputs": [],
   "source": [
    "using DelimitedFiles\n",
    "x = collect(1:100);\n",
    "y = Float64.(collect(101:200));\n",
    "open(\"values.csv\", \"w\") do f\n",
    "    println(f, \"X,Y\")\n",
    "    writedlm(f, [x y], ',')\n",
    "end"
   ]
  },
  {
   "cell_type": "code",
   "execution_count": 54,
   "metadata": {},
   "outputs": [],
   "source": [
    "data, header = readdlm(\"values.csv\", ',', header=true);"
   ]
  },
  {
   "cell_type": "code",
   "execution_count": 55,
   "metadata": {},
   "outputs": [
    {
     "data": {
      "text/plain": [
       "100"
      ]
     },
     "execution_count": 55,
     "metadata": {},
     "output_type": "execute_result"
    }
   ],
   "source": [
    "size(data, 1)"
   ]
  },
  {
   "cell_type": "code",
   "execution_count": 56,
   "metadata": {},
   "outputs": [
    {
     "data": {
      "text/plain": [
       "1×2 Matrix{AbstractString}:\n",
       " \"X\"  \"Y\""
      ]
     },
     "execution_count": 56,
     "metadata": {},
     "output_type": "execute_result"
    }
   ],
   "source": [
    "header"
   ]
  },
  {
   "cell_type": "code",
   "execution_count": 57,
   "metadata": {},
   "outputs": [
    {
     "name": "stdout",
     "output_type": "stream",
     "text": [
      "Step: 1\n"
     ]
    }
   ],
   "source": [
    "rm(\"values.csv\")"
   ]
  },
  {
   "cell_type": "markdown",
   "metadata": {},
   "source": [
    "### Network \n",
    "\n",
    "Just like files are opened with open to obtain the `IO` stream to interface, sockets are equivalent network communication end points to obtain connection streams. However, if you could use download method to provide a URL and download files. "
   ]
  },
  {
   "cell_type": "code",
   "execution_count": 58,
   "metadata": {},
   "outputs": [
    {
     "name": "stdout",
     "output_type": "stream",
     "text": [
      "Step: 2\n",
      "Step: 3\n",
      "Step: 4\n",
      "Step: 5\n",
      "Step: 6\n",
      "Step: 7\n"
     ]
    },
    {
     "data": {
      "text/plain": [
       "\"julia-1.5.3.tar.gz\""
      ]
     },
     "execution_count": 58,
     "metadata": {},
     "output_type": "execute_result"
    }
   ],
   "source": [
    "download(\"https://github.com/JuliaLang/julia/releases/download/v1.5.3/julia-1.5.3.tar.gz\", \"julia-1.5.3.tar.gz\")"
   ]
  },
  {
   "cell_type": "code",
   "execution_count": 59,
   "metadata": {},
   "outputs": [
    {
     "data": {
      "text/plain": [
       "Task (failed) @0x00000000d1560bb0\n",
       "IOError: listen: address already in use (EADDRINUSE)\n",
       "Stacktrace:\n",
       " [1] \u001b[0m\u001b[1muv_error\u001b[22m\n",
       "\u001b[90m   @ \u001b[39m\u001b[90m.\\\u001b[39m\u001b[90m\u001b[4mlibuv.jl:97\u001b[24m\u001b[39m\u001b[90m [inlined]\u001b[39m\n",
       " [2] \u001b[0m\u001b[1m#listen#13\u001b[22m\n",
       "\u001b[90m   @ \u001b[39m\u001b[90mC:\\Users\\WoU_AI_ML\\AppData\\Local\\Programs\\Julia-1.8.0\\share\\julia\\stdlib\\v1.8\\Sockets\\src\\\u001b[39m\u001b[90m\u001b[4mSockets.jl:629\u001b[24m\u001b[39m\u001b[90m [inlined]\u001b[39m\n",
       " [3] \u001b[0m\u001b[1m#listen#10\u001b[22m\n",
       "\u001b[90m   @ \u001b[39m\u001b[90mC:\\Users\\WoU_AI_ML\\AppData\\Local\\Programs\\Julia-1.8.0\\share\\julia\\stdlib\\v1.8\\Sockets\\src\\\u001b[39m\u001b[90m\u001b[4mSockets.jl:622\u001b[24m\u001b[39m\u001b[90m [inlined]\u001b[39m\n",
       " [4] \u001b[0m\u001b[1m#listen#12\u001b[22m\n",
       "\u001b[90m   @ \u001b[39m\u001b[90mC:\\Users\\WoU_AI_ML\\AppData\\Local\\Programs\\Julia-1.8.0\\share\\julia\\stdlib\\v1.8\\Sockets\\src\\\u001b[39m\u001b[90m\u001b[4mSockets.jl:626\u001b[24m\u001b[39m\u001b[90m [inlined]\u001b[39m\n",
       " [5] \u001b[0m\u001b[1m#listen#11\u001b[22m\n",
       "\u001b[90m   @ \u001b[39m\u001b[90mC:\\Users\\WoU_AI_ML\\AppData\\Local\\Programs\\Julia-1.8.0\\share\\julia\\stdlib\\v1.8\\Sockets\\src\\\u001b[39m\u001b[90m\u001b[4mSockets.jl:625\u001b[24m\u001b[39m\u001b[90m [inlined]\u001b[39m\n",
       " [6] \u001b[0m\u001b[1mlisten\u001b[22m\n",
       "\u001b[90m   @ \u001b[39m\u001b[90mC:\\Users\\WoU_AI_ML\\AppData\\Local\\Programs\\Julia-1.8.0\\share\\julia\\stdlib\\v1.8\\Sockets\\src\\\u001b[39m\u001b[90m\u001b[4mSockets.jl:625\u001b[24m\u001b[39m\u001b[90m [inlined]\u001b[39m\n",
       " [7] \u001b[0m\u001b[1mmacro expansion\u001b[22m\n",
       "\u001b[90m   @ \u001b[39m\u001b[90m.\\\u001b[39m\u001b[90m\u001b[4mIn[59]:3\u001b[24m\u001b[39m\u001b[90m [inlined]\u001b[39m\n",
       " [8] \u001b[0m\u001b[1m(::var\"#19#21\")\u001b[22m\u001b[0m\u001b[1m(\u001b[22m\u001b[0m\u001b[1m)\u001b[22m\n",
       "\u001b[90m   @ \u001b[39m\u001b[35mMain\u001b[39m \u001b[90m.\\\u001b[39m\u001b[90m\u001b[4mtask.jl:484\u001b[24m\u001b[39m"
      ]
     },
     "execution_count": 59,
     "metadata": {},
     "output_type": "execute_result"
    }
   ],
   "source": [
    "using Sockets\n",
    "@async begin\n",
    "    server = listen(3000)\n",
    "    while true\n",
    "        s = accept(server)\n",
    "        @async while isopen(s)\n",
    "            msg = readline(s, keep=true)\n",
    "            write(s, \"Server Response: $msg\")\n",
    "        end  \n",
    "    end\n",
    "end"
   ]
  },
  {
   "cell_type": "code",
   "execution_count": 60,
   "metadata": {},
   "outputs": [
    {
     "data": {
      "text/plain": [
       "Task (runnable) @0x00000000d15e6100"
      ]
     },
     "execution_count": 60,
     "metadata": {},
     "output_type": "execute_result"
    }
   ],
   "source": [
    "c = connect(3000)\n",
    "@async while isopen(c)\n",
    "    println(stdout, readline(c, keep=true))\n",
    "end"
   ]
  },
  {
   "cell_type": "code",
   "execution_count": 61,
   "metadata": {},
   "outputs": [
    {
     "name": "stdout",
     "output_type": "stream",
     "text": [
      "Server Response: Client Msg id: 1\n",
      "\n"
     ]
    }
   ],
   "source": [
    "for i = 1:5\n",
    "    println(c, \"Client Msg id: $i\")\n",
    "end"
   ]
  },
  {
   "cell_type": "code",
   "execution_count": 62,
   "metadata": {},
   "outputs": [
    {
     "name": "stdout",
     "output_type": "stream",
     "text": [
      "Server Response: Client Msg id: 2\n",
      "\n"
     ]
    }
   ],
   "source": [
    "close(c)"
   ]
  },
  {
   "cell_type": "markdown",
   "metadata": {},
   "source": [
    "### Memory I/O\n",
    "\n",
    "Strings cannot be manipulated. It may help to create a byte array for `IO` in the memory and use that for text manipulations. In the end the byte array can be converted to a String. "
   ]
  },
  {
   "cell_type": "code",
   "execution_count": 63,
   "metadata": {},
   "outputs": [
    {
     "data": {
      "text/plain": [
       "\"This is Line 1\\nThis is Line 2\\n\""
      ]
     },
     "execution_count": 63,
     "metadata": {},
     "output_type": "execute_result"
    }
   ],
   "source": [
    "io = IOBuffer()\n",
    "println(io, \"This is Line 1\")\n",
    "println(io, \"This is Line 2\")\n",
    "str = String(take!(io))"
   ]
  },
  {
   "cell_type": "code",
   "execution_count": 64,
   "metadata": {},
   "outputs": [
    {
     "data": {
      "text/plain": [
       "800"
      ]
     },
     "execution_count": 64,
     "metadata": {},
     "output_type": "execute_result"
    }
   ],
   "source": [
    "A = fill(10, (5, 20))\n",
    "A[2, 3] = 20\n",
    "open(\"mmap.bin\", \"w+\") do fd\n",
    "    write(fd, size(A, 1))\n",
    "    write(fd, size(A, 2))\n",
    "    write(fd, A)\n",
    "end"
   ]
  },
  {
   "cell_type": "markdown",
   "metadata": {},
   "source": [
    "Memory mapping is reverse problem. A file can be mapped to memory and accessed selectively page by page. This way the whole file need not be loaded in the memory. "
   ]
  },
  {
   "cell_type": "code",
   "execution_count": 65,
   "metadata": {},
   "outputs": [
    {
     "name": "stdout",
     "output_type": "stream",
     "text": [
      "A2[1, 1]: 10 A2[2, 3]: 20\n"
     ]
    }
   ],
   "source": [
    "using Mmap\n",
    "fd = open(\"mmap.bin\", \"r\")\n",
    "nr = read(fd, Int)\n",
    "nc = read(fd, Int)\n",
    "A2 = Mmap.mmap(fd, Matrix{Int}, (nr, nc))\n",
    "println(\"A2[1, 1]: \", A2[1, 1], \" A2[2, 3]: \", A2[2, 3])\n",
    "close(fd)"
   ]
  },
  {
   "cell_type": "code",
   "execution_count": 66,
   "metadata": {},
   "outputs": [],
   "source": [
    "A2 = nothing\n",
    "GC.gc()\n",
    "rm(\"mmap.bin\")"
   ]
  },
  {
   "cell_type": "markdown",
   "metadata": {},
   "source": [
    "## 9.7 Constants\n",
    "\n",
    "There are many system and Julia related constants. Mathematical constants are also defined in the standard library. "
   ]
  },
  {
   "cell_type": "code",
   "execution_count": 67,
   "metadata": {},
   "outputs": [
    {
     "data": {
      "text/plain": [
       "v\"1.8.0\""
      ]
     },
     "execution_count": 67,
     "metadata": {},
     "output_type": "execute_result"
    }
   ],
   "source": [
    "VERSION"
   ]
  },
  {
   "cell_type": "code",
   "execution_count": 68,
   "metadata": {},
   "outputs": [
    {
     "name": "stdout",
     "output_type": "stream",
     "text": [
      "Step: 8\n"
     ]
    },
    {
     "data": {
      "text/plain": [
       "Ptr{Nothing} @0x0000000000000000"
      ]
     },
     "execution_count": 68,
     "metadata": {},
     "output_type": "execute_result"
    }
   ],
   "source": [
    "C_NULL"
   ]
  },
  {
   "cell_type": "code",
   "execution_count": 69,
   "metadata": {},
   "outputs": [
    {
     "data": {
      "text/plain": [
       "\"C:\\\\Users\\\\WoU_AI_ML\\\\AppData\\\\Local\\\\Programs\\\\Julia-1.8.0\\\\bin\""
      ]
     },
     "execution_count": 69,
     "metadata": {},
     "output_type": "execute_result"
    }
   ],
   "source": [
    "Sys.BINDIR"
   ]
  },
  {
   "cell_type": "code",
   "execution_count": 70,
   "metadata": {},
   "outputs": [
    {
     "data": {
      "text/plain": [
       "20"
      ]
     },
     "execution_count": 70,
     "metadata": {},
     "output_type": "execute_result"
    }
   ],
   "source": [
    "Sys.CPU_THREADS"
   ]
  },
  {
   "cell_type": "code",
   "execution_count": 71,
   "metadata": {},
   "outputs": [
    {
     "data": {
      "text/plain": [
       "64"
      ]
     },
     "execution_count": 71,
     "metadata": {},
     "output_type": "execute_result"
    }
   ],
   "source": [
    "Sys.WORD_SIZE"
   ]
  },
  {
   "cell_type": "code",
   "execution_count": 72,
   "metadata": {},
   "outputs": [
    {
     "data": {
      "text/plain": [
       ":NT"
      ]
     },
     "execution_count": 72,
     "metadata": {},
     "output_type": "execute_result"
    }
   ],
   "source": [
    "Sys.KERNEL"
   ]
  },
  {
   "cell_type": "code",
   "execution_count": 73,
   "metadata": {},
   "outputs": [
    {
     "data": {
      "text/plain": [
       "\"x86_64-w64-mingw32\""
      ]
     },
     "execution_count": 73,
     "metadata": {},
     "output_type": "execute_result"
    }
   ],
   "source": [
    "Sys.MACHINE"
   ]
  },
  {
   "cell_type": "code",
   "execution_count": 74,
   "metadata": {},
   "outputs": [
    {
     "data": {
      "text/plain": [
       ":x86_64"
      ]
     },
     "execution_count": 74,
     "metadata": {},
     "output_type": "execute_result"
    }
   ],
   "source": [
    "Sys.ARCH"
   ]
  },
  {
   "cell_type": "code",
   "execution_count": 75,
   "metadata": {},
   "outputs": [
    {
     "data": {
      "text/plain": [
       "Base.EnvDict with 68 entries:\n",
       "  \"=C:\"                            => \"C:\\\\Users\\\\WoU_AI_ML\"\n",
       "  \"ALLUSERSPROFILE\"                => \"C:\\\\ProgramData\"\n",
       "  \"AMOSAPP\"                        => \"C:\\\\Users\\\\WoU_AI_ML\\\\AppData\\\\Local\\\\Am…\n",
       "  \"AMOSDOCS\"                       => \"C:\\\\Users\\\\WoU_AI_ML\\\\Documents\\\\AmosDev…\n",
       "  \"AMOSEXAMPLES\"                   => \"C:\\\\Users\\\\WoU_AI_ML\\\\AppData\\\\Local\\\\Am…\n",
       "  \"AMOSLOGS\"                       => \"C:\\\\Users\\\\WoU_AI_ML\\\\AppData\\\\Local\\\\Am…\n",
       "  \"AMOSPLUGINS\"                    => \"C:\\\\Users\\\\WoU_AI_ML\\\\AppData\\\\Local\\\\Am…\n",
       "  \"AMOSPROGRAM\"                    => \"C:\\\\Program Files\\\\IBM\\\\SPSS\\\\Amos\\\\28\"\n",
       "  \"AMOSTEMPLATES\"                  => \"C:\\\\Users\\\\WoU_AI_ML\\\\AppData\\\\Local\\\\Am…\n",
       "  \"AMOSTUTORIAL\"                   => \"C:\\\\Users\\\\WoU_AI_ML\\\\AppData\\\\Local\\\\Am…\n",
       "  \"APPDATA\"                        => \"C:\\\\Users\\\\WoU_AI_ML\\\\AppData\\\\Roaming\"\n",
       "  \"COLUMNS\"                        => \"80\"\n",
       "  \"COMMONPROGRAMFILES\"             => \"C:\\\\Program Files\\\\Common Files\"\n",
       "  \"COMMONPROGRAMFILES(X86)\"        => \"C:\\\\Program Files (x86)\\\\Common Files\"\n",
       "  \"COMMONPROGRAMW6432\"             => \"C:\\\\Program Files\\\\Common Files\"\n",
       "  \"COMPUTERNAME\"                   => \"WOU_AI_ML04\"\n",
       "  \"COMSPEC\"                        => \"C:\\\\WINDOWS\\\\system32\\\\cmd.exe\"\n",
       "  \"CONDA_DEFAULT_ENV\"              => \"base\"\n",
       "  \"CONDA_EXE\"                      => \"C:\\\\Users\\\\WoU_AI_ML\\\\anaconda3\\\\Scripts…\n",
       "  \"CONDA_PROMPT_MODIFIER\"          => \"(base) \"\n",
       "  \"CONDA_PYTHON_EXE\"               => \"C:\\\\Users\\\\WoU_AI_ML\\\\anaconda3\\\\python.…\n",
       "  \"CONDA_SHLVL\"                    => \"1\"\n",
       "  \"CUDA_PATH\"                      => \"C:\\\\Program Files\\\\NVIDIA GPU Computing …\n",
       "  \"CUDA_PATH_V11_2\"                => \"C:\\\\Program Files\\\\NVIDIA GPU Computing …\n",
       "  \"DRIVERDATA\"                     => \"C:\\\\Windows\\\\System32\\\\Drivers\\\\DriverDa…\n",
       "  ⋮                                => ⋮"
      ]
     },
     "execution_count": 75,
     "metadata": {},
     "output_type": "execute_result"
    }
   ],
   "source": [
    "Sys.ENV"
   ]
  },
  {
   "cell_type": "code",
   "execution_count": 76,
   "metadata": {},
   "outputs": [
    {
     "data": {
      "text/plain": [
       "π = 3.1415926535897..."
      ]
     },
     "execution_count": 76,
     "metadata": {},
     "output_type": "execute_result"
    }
   ],
   "source": [
    "MathConstants.pi"
   ]
  },
  {
   "cell_type": "code",
   "execution_count": 77,
   "metadata": {},
   "outputs": [
    {
     "data": {
      "text/plain": [
       "ℯ = 2.7182818284590..."
      ]
     },
     "execution_count": 77,
     "metadata": {},
     "output_type": "execute_result"
    }
   ],
   "source": [
    "MathConstants.e"
   ]
  },
  {
   "cell_type": "markdown",
   "metadata": {},
   "source": [
    "## 9.8 Notable Modules\n",
    "\n",
    "Miscellaneous modules of Julia library. "
   ]
  },
  {
   "cell_type": "markdown",
   "metadata": {},
   "source": [
    "### Dates\n",
    "\n",
    "User renderable date and time representations. In the system the date is just a continuously increasing counter from a datum. These functions make meaningful period associations and provide the correct date and time. "
   ]
  },
  {
   "cell_type": "code",
   "execution_count": 78,
   "metadata": {},
   "outputs": [],
   "source": [
    "using Dates"
   ]
  },
  {
   "cell_type": "code",
   "execution_count": 79,
   "metadata": {},
   "outputs": [
    {
     "data": {
      "text/plain": [
       "2022-10-01T21:36:37.437"
      ]
     },
     "execution_count": 79,
     "metadata": {},
     "output_type": "execute_result"
    }
   ],
   "source": [
    "now()"
   ]
  },
  {
   "cell_type": "code",
   "execution_count": 80,
   "metadata": {},
   "outputs": [
    {
     "name": "stdout",
     "output_type": "stream",
     "text": [
      "Step: 9\n"
     ]
    },
    {
     "data": {
      "text/plain": [
       "2020-01-01T00:00:00"
      ]
     },
     "execution_count": 80,
     "metadata": {},
     "output_type": "execute_result"
    }
   ],
   "source": [
    "DateTime(2020)"
   ]
  },
  {
   "cell_type": "code",
   "execution_count": 81,
   "metadata": {},
   "outputs": [
    {
     "data": {
      "text/plain": [
       "2020-10-31T01:02:03"
      ]
     },
     "execution_count": 81,
     "metadata": {},
     "output_type": "execute_result"
    }
   ],
   "source": [
    "t = DateTime(2020, 10, 31, 01, 02, 03)"
   ]
  },
  {
   "cell_type": "code",
   "execution_count": 82,
   "metadata": {},
   "outputs": [
    {
     "data": {
      "text/plain": [
       "2020-01-01"
      ]
     },
     "execution_count": 82,
     "metadata": {},
     "output_type": "execute_result"
    }
   ],
   "source": [
    "Date(2020)"
   ]
  },
  {
   "cell_type": "code",
   "execution_count": 83,
   "metadata": {},
   "outputs": [
    {
     "data": {
      "text/plain": [
       "2020-10-31"
      ]
     },
     "execution_count": 83,
     "metadata": {},
     "output_type": "execute_result"
    }
   ],
   "source": [
    "d = Date(t)"
   ]
  },
  {
   "cell_type": "code",
   "execution_count": 84,
   "metadata": {},
   "outputs": [
    {
     "data": {
      "text/plain": [
       "2020-10-31T00:00:00"
      ]
     },
     "execution_count": 84,
     "metadata": {},
     "output_type": "execute_result"
    }
   ],
   "source": [
    "DateTime(d)"
   ]
  },
  {
   "cell_type": "code",
   "execution_count": 85,
   "metadata": {},
   "outputs": [
    {
     "data": {
      "text/plain": [
       "true"
      ]
     },
     "execution_count": 85,
     "metadata": {},
     "output_type": "execute_result"
    }
   ],
   "source": [
    "t > d"
   ]
  },
  {
   "cell_type": "code",
   "execution_count": 86,
   "metadata": {},
   "outputs": [
    {
     "data": {
      "text/plain": [
       "true"
      ]
     },
     "execution_count": 86,
     "metadata": {},
     "output_type": "execute_result"
    }
   ],
   "source": [
    "DateTime(2020) < now()"
   ]
  },
  {
   "cell_type": "code",
   "execution_count": 87,
   "metadata": {},
   "outputs": [
    {
     "data": {
      "text/plain": [
       "true"
      ]
     },
     "execution_count": 87,
     "metadata": {},
     "output_type": "execute_result"
    }
   ],
   "source": [
    "DateTime(2020) == Date(2020)"
   ]
  },
  {
   "cell_type": "code",
   "execution_count": 88,
   "metadata": {},
   "outputs": [
    {
     "data": {
      "text/plain": [
       "3 months, 10 days, 15 hours"
      ]
     },
     "execution_count": 88,
     "metadata": {},
     "output_type": "execute_result"
    }
   ],
   "source": [
    "p = Month(3) + Day(10) + Hour(15)"
   ]
  },
  {
   "cell_type": "code",
   "execution_count": 89,
   "metadata": {},
   "outputs": [
    {
     "data": {
      "text/plain": [
       "Dates.CompoundPeriod"
      ]
     },
     "execution_count": 89,
     "metadata": {},
     "output_type": "execute_result"
    }
   ],
   "source": [
    "typeof(p)"
   ]
  },
  {
   "cell_type": "code",
   "execution_count": 90,
   "metadata": {},
   "outputs": [
    {
     "name": "stdout",
     "output_type": "stream",
     "text": [
      "Step: 10\n"
     ]
    },
    {
     "data": {
      "text/plain": [
       "2023-01-12T12:36:38.708"
      ]
     },
     "execution_count": 90,
     "metadata": {},
     "output_type": "execute_result"
    }
   ],
   "source": [
    "now() + p"
   ]
  },
  {
   "cell_type": "code",
   "execution_count": 91,
   "metadata": {},
   "outputs": [
    {
     "data": {
      "text/plain": [
       "2023-07-28"
      ]
     },
     "execution_count": 91,
     "metadata": {},
     "output_type": "execute_result"
    }
   ],
   "source": [
    "Date(now())+ Day(300)"
   ]
  },
  {
   "cell_type": "code",
   "execution_count": 92,
   "metadata": {},
   "outputs": [
    {
     "data": {
      "text/plain": [
       "86823398739 milliseconds"
      ]
     },
     "execution_count": 92,
     "metadata": {},
     "output_type": "execute_result"
    }
   ],
   "source": [
    "now() - DateTime(2020)"
   ]
  },
  {
   "cell_type": "code",
   "execution_count": 93,
   "metadata": {
    "scrolled": true
   },
   "outputs": [
    {
     "ename": "LoadError",
     "evalue": "MethodError: no method matching -(::DateTime, ::Date)\n\u001b[0mClosest candidates are:\n\u001b[0m  -(\u001b[91m::StridedArray{<:Union{Dates.CompoundPeriod, Period}}\u001b[39m, ::TimeType) at C:\\Users\\WoU_AI_ML\\AppData\\Local\\Programs\\Julia-1.8.0\\share\\julia\\stdlib\\v1.8\\Dates\\src\\deprecated.jl:26\n\u001b[0m  -(::TimeType, \u001b[91m::Dates.CompoundPeriod\u001b[39m) at C:\\Users\\WoU_AI_ML\\AppData\\Local\\Programs\\Julia-1.8.0\\share\\julia\\stdlib\\v1.8\\Dates\\src\\periods.jl:400\n\u001b[0m  -(::T, \u001b[91m::T\u001b[39m) where T<:TimeType at C:\\Users\\WoU_AI_ML\\AppData\\Local\\Programs\\Julia-1.8.0\\share\\julia\\stdlib\\v1.8\\Dates\\src\\arithmetic.jl:9\n\u001b[0m  ...",
     "output_type": "error",
     "traceback": [
      "MethodError: no method matching -(::DateTime, ::Date)\n\u001b[0mClosest candidates are:\n\u001b[0m  -(\u001b[91m::StridedArray{<:Union{Dates.CompoundPeriod, Period}}\u001b[39m, ::TimeType) at C:\\Users\\WoU_AI_ML\\AppData\\Local\\Programs\\Julia-1.8.0\\share\\julia\\stdlib\\v1.8\\Dates\\src\\deprecated.jl:26\n\u001b[0m  -(::TimeType, \u001b[91m::Dates.CompoundPeriod\u001b[39m) at C:\\Users\\WoU_AI_ML\\AppData\\Local\\Programs\\Julia-1.8.0\\share\\julia\\stdlib\\v1.8\\Dates\\src\\periods.jl:400\n\u001b[0m  -(::T, \u001b[91m::T\u001b[39m) where T<:TimeType at C:\\Users\\WoU_AI_ML\\AppData\\Local\\Programs\\Julia-1.8.0\\share\\julia\\stdlib\\v1.8\\Dates\\src\\arithmetic.jl:9\n\u001b[0m  ...",
      "",
      "Stacktrace:",
      " [1] top-level scope",
      "   @ In[93]:1",
      " [2] eval",
      "   @ .\\boot.jl:368 [inlined]",
      " [3] include_string(mapexpr::typeof(REPL.softscope), mod::Module, code::String, filename::String)",
      "   @ Base .\\loading.jl:1428"
     ]
    }
   ],
   "source": [
    "now() - Date(2020)"
   ]
  },
  {
   "cell_type": "code",
   "execution_count": 94,
   "metadata": {},
   "outputs": [
    {
     "data": {
      "text/plain": [
       "1004 days"
      ]
     },
     "execution_count": 94,
     "metadata": {},
     "output_type": "execute_result"
    }
   ],
   "source": [
    "Date(now()) - Date(2020)"
   ]
  },
  {
   "cell_type": "code",
   "execution_count": 95,
   "metadata": {},
   "outputs": [
    {
     "data": {
      "text/plain": [
       "2022 years"
      ]
     },
     "execution_count": 95,
     "metadata": {},
     "output_type": "execute_result"
    }
   ],
   "source": [
    "Year(now())"
   ]
  },
  {
   "cell_type": "code",
   "execution_count": 96,
   "metadata": {},
   "outputs": [
    {
     "data": {
      "text/plain": [
       "10 months"
      ]
     },
     "execution_count": 96,
     "metadata": {},
     "output_type": "execute_result"
    }
   ],
   "source": [
    "Month(now())"
   ]
  },
  {
   "cell_type": "code",
   "execution_count": 97,
   "metadata": {},
   "outputs": [
    {
     "name": "stdout",
     "output_type": "stream",
     "text": [
      "Step: 11\n"
     ]
    },
    {
     "data": {
      "text/plain": [
       "1 day"
      ]
     },
     "execution_count": 97,
     "metadata": {},
     "output_type": "execute_result"
    }
   ],
   "source": [
    "Day(now())"
   ]
  },
  {
   "cell_type": "code",
   "execution_count": 98,
   "metadata": {},
   "outputs": [
    {
     "data": {
      "text/plain": [
       "39 weeks"
      ]
     },
     "execution_count": 98,
     "metadata": {},
     "output_type": "execute_result"
    }
   ],
   "source": [
    "Week(now())"
   ]
  },
  {
   "cell_type": "code",
   "execution_count": 99,
   "metadata": {},
   "outputs": [
    {
     "data": {
      "text/plain": [
       "2022"
      ]
     },
     "execution_count": 99,
     "metadata": {},
     "output_type": "execute_result"
    }
   ],
   "source": [
    "year(now())"
   ]
  },
  {
   "cell_type": "code",
   "execution_count": 100,
   "metadata": {},
   "outputs": [
    {
     "data": {
      "text/plain": [
       "2022-11-24"
      ]
     },
     "execution_count": 100,
     "metadata": {},
     "output_type": "execute_result"
    }
   ],
   "source": [
    "tonext(today()) do d\n",
    "    dayofweek(d) == Thursday &&\n",
    "    dayofweekofmonth(d) == 4 &&\n",
    "    month(d) == November\n",
    "end"
   ]
  },
  {
   "cell_type": "markdown",
   "metadata": {},
   "source": [
    "### Logging\n",
    "\n",
    "Long running processes or servers running in Julia need to provide consistent and standard log reporting. This module helps create such reports. "
   ]
  },
  {
   "cell_type": "code",
   "execution_count": 101,
   "metadata": {},
   "outputs": [],
   "source": [
    "@debug \"This is a debug message $(sum(rand(100)))\""
   ]
  },
  {
   "cell_type": "code",
   "execution_count": 102,
   "metadata": {},
   "outputs": [
    {
     "name": "stderr",
     "output_type": "stream",
     "text": [
      "┌ Info: This message is just informational\n",
      "└ @ Main In[102]:1\n"
     ]
    }
   ],
   "source": [
    "@info \"This message is just informational\""
   ]
  },
  {
   "cell_type": "code",
   "execution_count": 103,
   "metadata": {},
   "outputs": [
    {
     "name": "stderr",
     "output_type": "stream",
     "text": [
      "┌ Warning: This is a warning message\n",
      "└ @ Main In[103]:1\n"
     ]
    }
   ],
   "source": [
    "@warn \"This is a warning message\""
   ]
  },
  {
   "cell_type": "code",
   "execution_count": 104,
   "metadata": {},
   "outputs": [
    {
     "name": "stderr",
     "output_type": "stream",
     "text": [
      "┌ Error: This is an error message\n",
      "└ @ Main In[104]:1\n"
     ]
    }
   ],
   "source": [
    "@error \"This is an error message\""
   ]
  },
  {
   "cell_type": "code",
   "execution_count": 105,
   "metadata": {},
   "outputs": [
    {
     "name": "stderr",
     "output_type": "stream",
     "text": [
      "┌ Info: A is all ones\n",
      "│   A = [1.0 1.0 1.0 1.0; 1.0 1.0 1.0 1.0; 1.0 1.0 1.0 1.0]\n",
      "└ @ Main In[105]:2\n"
     ]
    }
   ],
   "source": [
    "A = ones(3, 4)\n",
    "@info \"A is all ones\" A"
   ]
  },
  {
   "cell_type": "markdown",
   "metadata": {},
   "source": [
    "The `Logging` module provides interfaces to implement complete loggers. It also provides the ability to override the global logger with a different local one. "
   ]
  },
  {
   "cell_type": "code",
   "execution_count": 106,
   "metadata": {},
   "outputs": [],
   "source": [
    "using Logging"
   ]
  },
  {
   "cell_type": "code",
   "execution_count": 107,
   "metadata": {},
   "outputs": [
    {
     "name": "stdout",
     "output_type": "stream",
     "text": [
      "┌ Info: This is my simple info log\n",
      "└ @ Main In[107]:3\n",
      "┌ Error: This is an error written to file\n",
      "└ @ Main In[107]:4\n",
      "┌ Warning: This is a warning message\n",
      "└ @ Main In[107]:5\n",
      "┌ Info: Current logger is same as global logger\n",
      "│   current_logger() == global_logger() = false\n",
      "└ @ Main In[107]:6\n"
     ]
    }
   ],
   "source": [
    "open(\"file.log\", \"w\") do f\n",
    "    with_logger(SimpleLogger(f)) do\n",
    "        @info \"This is my simple info log\"\n",
    "        @error \"This is an error written to file\"\n",
    "        @warn \"This is a warning message\"\n",
    "        @info \"Current logger is same as global logger\" current_logger() == global_logger()\n",
    "    end\n",
    "end\n",
    "write(stdout, read(\"file.log\"));"
   ]
  },
  {
   "cell_type": "code",
   "execution_count": 108,
   "metadata": {},
   "outputs": [],
   "source": [
    "rm(\"file.log\")"
   ]
  },
  {
   "cell_type": "code",
   "execution_count": 109,
   "metadata": {},
   "outputs": [
    {
     "name": "stderr",
     "output_type": "stream",
     "text": [
      "┌ Info: Current logger is same as global logger\n",
      "│   current_logger() == global_logger() = true\n",
      "└ @ Main In[109]:1\n"
     ]
    }
   ],
   "source": [
    "@info \"Current logger is same as global logger\" current_logger() == global_logger()"
   ]
  },
  {
   "cell_type": "markdown",
   "metadata": {},
   "source": [
    "### Statistics\n",
    "\n",
    "This module provides simple functions for central tendencies like mean, median and standard deviations etc. Functions for correlations and covariances are also provided. However, the treatment of statistics in thi module are highly rudimentary. "
   ]
  },
  {
   "cell_type": "code",
   "execution_count": 110,
   "metadata": {},
   "outputs": [],
   "source": [
    "using Statistics"
   ]
  },
  {
   "cell_type": "code",
   "execution_count": 111,
   "metadata": {},
   "outputs": [
    {
     "data": {
      "text/plain": [
       "5.5"
      ]
     },
     "execution_count": 111,
     "metadata": {},
     "output_type": "execute_result"
    }
   ],
   "source": [
    "mean(1:10)"
   ]
  },
  {
   "cell_type": "code",
   "execution_count": 112,
   "metadata": {},
   "outputs": [
    {
     "data": {
      "text/plain": [
       "5.5"
      ]
     },
     "execution_count": 112,
     "metadata": {},
     "output_type": "execute_result"
    }
   ],
   "source": [
    "median(1:10)"
   ]
  },
  {
   "cell_type": "code",
   "execution_count": 113,
   "metadata": {},
   "outputs": [
    {
     "data": {
      "text/plain": [
       "3.0276503540974917"
      ]
     },
     "execution_count": 113,
     "metadata": {},
     "output_type": "execute_result"
    }
   ],
   "source": [
    "std(1:10)"
   ]
  },
  {
   "cell_type": "code",
   "execution_count": 114,
   "metadata": {},
   "outputs": [
    {
     "data": {
      "text/plain": [
       "9.166666666666666"
      ]
     },
     "execution_count": 114,
     "metadata": {},
     "output_type": "execute_result"
    }
   ],
   "source": [
    "var(1:10)"
   ]
  },
  {
   "cell_type": "code",
   "execution_count": 115,
   "metadata": {},
   "outputs": [
    {
     "data": {
      "text/plain": [
       "-0.4661132564758624"
      ]
     },
     "execution_count": 115,
     "metadata": {},
     "output_type": "execute_result"
    }
   ],
   "source": [
    "cor(1:10, rand(10))"
   ]
  },
  {
   "cell_type": "code",
   "execution_count": 116,
   "metadata": {},
   "outputs": [
    {
     "data": {
      "text/plain": [
       "1.0"
      ]
     },
     "execution_count": 116,
     "metadata": {},
     "output_type": "execute_result"
    }
   ],
   "source": [
    "cor(1:10, 11:20)"
   ]
  },
  {
   "cell_type": "code",
   "execution_count": 117,
   "metadata": {},
   "outputs": [
    {
     "data": {
      "text/plain": [
       "-0.26954604605042487"
      ]
     },
     "execution_count": 117,
     "metadata": {},
     "output_type": "execute_result"
    },
    {
     "name": "stdout",
     "output_type": "stream",
     "text": [
      "Step: 12\n"
     ]
    }
   ],
   "source": [
    "cov(1:10, rand(10))"
   ]
  },
  {
   "cell_type": "markdown",
   "metadata": {},
   "source": [
    "### Random Numbers\n",
    "\n",
    "Provides methods for random number generation and other permutation and combination functions. "
   ]
  },
  {
   "cell_type": "code",
   "execution_count": 118,
   "metadata": {},
   "outputs": [],
   "source": [
    "using Random"
   ]
  },
  {
   "cell_type": "code",
   "execution_count": 119,
   "metadata": {},
   "outputs": [
    {
     "data": {
      "text/plain": [
       "2-element Vector{Int64}:\n",
       " -1676632530474707123\n",
       "  2319800912823674788"
      ]
     },
     "execution_count": 119,
     "metadata": {},
     "output_type": "execute_result"
    }
   ],
   "source": [
    "rand(Int, 2)"
   ]
  },
  {
   "cell_type": "code",
   "execution_count": 120,
   "metadata": {},
   "outputs": [
    {
     "data": {
      "text/plain": [
       "2×3 Matrix{Float64}:\n",
       " 0.892949  0.163384  0.116294\n",
       " 0.667462  0.515968  0.130821"
      ]
     },
     "execution_count": 120,
     "metadata": {},
     "output_type": "execute_result"
    }
   ],
   "source": [
    "rand(2, 3)"
   ]
  },
  {
   "cell_type": "code",
   "execution_count": 121,
   "metadata": {},
   "outputs": [
    {
     "data": {
      "text/plain": [
       "2×3 Matrix{Float64}:\n",
       " 0.947901  0.92317   0.077077\n",
       " 0.142879  0.836903  0.374337"
      ]
     },
     "execution_count": 121,
     "metadata": {},
     "output_type": "execute_result"
    }
   ],
   "source": [
    "rand!(zeros(2, 3))"
   ]
  },
  {
   "cell_type": "code",
   "execution_count": 123,
   "metadata": {},
   "outputs": [
    {
     "data": {
      "text/plain": [
       "2×3 Matrix{Int64}:\n",
       " 3  4  2\n",
       " 1  4  2"
      ]
     },
     "execution_count": 123,
     "metadata": {},
     "output_type": "execute_result"
    }
   ],
   "source": [
    "rand(1:4, (2, 3))"
   ]
  },
  {
   "cell_type": "markdown",
   "metadata": {},
   "source": [
    "## 9.9 Conclusion\n",
    "\n",
    "## Exercises"
   ]
  }
 ],
 "metadata": {
  "@webio": {
   "lastCommId": null,
   "lastKernelId": null
  },
  "kernelspec": {
   "display_name": "Julia 1.8.0",
   "language": "julia",
   "name": "julia-1.8"
  },
  "language_info": {
   "file_extension": ".jl",
   "mimetype": "application/julia",
   "name": "julia",
   "version": "1.8.0"
  }
 },
 "nbformat": 4,
 "nbformat_minor": 4
}
